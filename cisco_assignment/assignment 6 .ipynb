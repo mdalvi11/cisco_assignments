{
 "cells": [
  {
   "cell_type": "markdown",
   "metadata": {},
   "source": [
    "# Define Object Oriented Programming Language?"
   ]
  },
  {
   "cell_type": "markdown",
   "metadata": {},
   "source": [
    "Object-oriented programming (OOP) refers to a type of computer programming (software design) in which programmers define\n",
    "not only the data type of a data structure, but also the types of operations (functions) that can be applied to the data\n",
    "structure."
   ]
  },
  {
   "cell_type": "markdown",
   "metadata": {},
   "source": [
    "# List down the Benefits of OOP?\n"
   ]
  },
  {
   "cell_type": "markdown",
   "metadata": {},
   "source": [
    "1. Modularity for easier \n",
    "2. Reuse of code through inheritance\n",
    "3. Flexibility through polymorphism\n",
    "4. Effective problem solving"
   ]
  },
  {
   "cell_type": "markdown",
   "metadata": {},
   "source": [
    "# Differentiate between function and method?"
   ]
  },
  {
   "cell_type": "markdown",
   "metadata": {},
   "source": [
    "Python method is called on an object, unlike a function. ... Since we call a method on an object, it can access the data\n",
    "within it. A method may alter an object's state, but Python function usually only operates on it, and then prints something\n",
    "or returns a value."
   ]
  },
  {
   "cell_type": "code",
   "execution_count": 3,
   "metadata": {},
   "outputs": [
    {
     "ename": "IndentationError",
     "evalue": "unindent does not match any outer indentation level (<tokenize>, line 7)",
     "output_type": "error",
     "traceback": [
      "\u001b[1;36m  File \u001b[1;32m\"<tokenize>\"\u001b[1;36m, line \u001b[1;32m7\u001b[0m\n\u001b[1;33m    (class variables and instance variables) and methods.\u001b[0m\n\u001b[1;37m    ^\u001b[0m\n\u001b[1;31mIndentationError\u001b[0m\u001b[1;31m:\u001b[0m unindent does not match any outer indentation level\n"
     ]
    }
   ],
   "source": [
    " # 1 Class :\n",
    "   A template for creating user-defined objects. \n",
    "Class definitions normally contain method definitions which operate on instances of the class\n",
    "\n",
    "# 2 Object : \n",
    "    A unique instance of a data structure that's defined by its class. An object comprises both data members \n",
    "  (class variables and instance variables) and methods. \n",
    "# 3 Attributes :\n",
    "    A value associated with an object which is referenced by name using dotted expressions.\n",
    "    For example, if an object o has an attribute a it would be referenced as o.a"
   ]
  },
  {
   "cell_type": "markdown",
   "metadata": {},
   "source": []
  },
  {
   "cell_type": "code",
   "execution_count": 1,
   "metadata": {},
   "outputs": [
    {
     "name": "stdout",
     "output_type": "stream",
     "text": [
      "Car is moving forward/backward\n",
      "Car is turning\n",
      "car is being stopped\n"
     ]
    }
   ],
   "source": [
    "class car:\n",
    "    def drive(self):\n",
    "        print(\"Car is moving forward/backward\")\n",
    "    def direction(self):\n",
    "        print(\"Car is turning\")\n",
    "    def brake(self):\n",
    "        print(\"car is being stopped\")\n",
    "\n",
    "model = car()\n",
    "color = car()\n",
    "name = car()\n",
    "engine = car()\n",
    "variant = car()\n",
    "\n",
    "car.drive(model)\n",
    "car.direction(model)\n",
    "car.brake(model)"
   ]
  }
 ],
 "metadata": {
  "kernelspec": {
   "display_name": "Python 3",
   "language": "python",
   "name": "python3"
  },
  "language_info": {
   "codemirror_mode": {
    "name": "ipython",
    "version": 3
   },
   "file_extension": ".py",
   "mimetype": "text/x-python",
   "name": "python",
   "nbconvert_exporter": "python",
   "pygments_lexer": "ipython3",
   "version": "3.7.3"
  }
 },
 "nbformat": 4,
 "nbformat_minor": 2
}
