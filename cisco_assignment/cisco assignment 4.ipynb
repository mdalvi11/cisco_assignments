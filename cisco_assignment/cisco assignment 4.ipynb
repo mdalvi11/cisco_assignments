{
 "cells": [
  {
   "cell_type": "markdown",
   "metadata": {},
   "source": [
    "# Question 1:"
   ]
  },
  {
   "cell_type": "code",
   "execution_count": 1,
   "metadata": {},
   "outputs": [
    {
     "name": "stdout",
     "output_type": "stream",
     "text": [
      "{'first name': 'Junaid', 'last name': 'Qureshi', 'age': 20, 'city': 'Hyderabad'}\n",
      "{'first name': 'Junaid', 'last name': 'Qureshi', 'age': 20, 'city': 'Hyderabad', 'qualification': 'To be updated'}\n",
      "{'first name': 'Junaid', 'last name': 'Qureshi', 'age': 20, 'city': 'Hyderabad', 'qualification': 'high academic level'}\n",
      "{'first name': 'Junaid', 'last name': 'Qureshi', 'age': 20, 'city': 'Hyderabad'}\n"
     ]
    }
   ],
   "source": [
    "myinfo = { \n",
    "    \"first name\": \"Junaid\",\n",
    "    \"last name\" : \"Qureshi\",\n",
    "    \"age\"           : 20,\n",
    "    \"city\"          : \"Hyderabad\"\n",
    "}\n",
    "\n",
    "print(myinfo)\n",
    "\n",
    "myinfo[\"qualification\"] = \"To be updated\"\n",
    "print(myinfo)\n",
    "\n",
    "myinfo[\"qualification\"]= \"high academic level\"\n",
    "print(myinfo)\n",
    "\n",
    "del myinfo[\"qualification\"]\n",
    "print(myinfo)"
   ]
  },
  {
   "cell_type": "markdown",
   "metadata": {},
   "source": [
    "\n",
    "# Question 2:"
   ]
  },
  {
   "cell_type": "code",
   "execution_count": 2,
   "metadata": {},
   "outputs": [
    {
     "name": "stdout",
     "output_type": "stream",
     "text": [
      "{'country': 'Pakistan', 'population': 12000, 'fact': 'There are so many education sectors !'}\n",
      "{'country': 'France', 'population': 199000, 'fact': \"It's a beautiful place !\"}\n",
      "{'country': 'India', 'population': 145000, 'fact': 'It is technology hub !'}\n"
     ]
    }
   ],
   "source": [
    "cities = {\n",
    "    \"Hyderabad\" : {\"country\"      : \"Pakistan\" ,\n",
    "                              \"population\" : 12000,\n",
    "                              \"fact\"            : \"There are so many education sectors !\"},\n",
    "    \n",
    "    \"Paris\"           : {\"country\"      : \"France\" ,\n",
    "                              \"population\" : 199000,\n",
    "                              \"fact\"            : \"It's a beautiful place !\"},\n",
    "    \n",
    "    \"Banglore\"    : {\"country\"      : \"India\" ,\n",
    "                              \"population\" : 145000,\n",
    "                              \"fact\"            : \"It is technology hub !\"}\n",
    "}\n",
    "\n",
    "print(cities[\"Hyderabad\"])\n",
    "print(cities[\"Paris\"])\n",
    "print(cities[\"Banglore\"])"
   ]
  },
  {
   "cell_type": "markdown",
   "metadata": {},
   "source": [
    "# Question 3:"
   ]
  },
  {
   "cell_type": "code",
   "execution_count": 3,
   "metadata": {},
   "outputs": [
    {
     "name": "stdout",
     "output_type": "stream",
     "text": [
      "\n",
      "Enter your age or 'q' to stop asking :1\n",
      "Your ticket is free !\n",
      "\n",
      "Enter your age or 'q' to stop asking :q\n"
     ]
    }
   ],
   "source": [
    "flag = True\n",
    "while flag:\n",
    "    age = input(\"\\nEnter your age or 'q' to stop asking :\")\n",
    "    \n",
    "    if age.lower() == 'q':\n",
    "        flag = False\n",
    "    else:\n",
    "        int_age = int(age)\n",
    "        if int_age < 3:\n",
    "            print(\"Your ticket is free !\")\n",
    "        elif int_age >=3 and int_age <=12:\n",
    "            print(\"Your ticket is $10 !\")\n",
    "        elif int_age > 12:\n",
    "            print(\"Your ticket is $15 !\")"
   ]
  },
  {
   "cell_type": "markdown",
   "metadata": {},
   "source": [
    "# Question 4:"
   ]
  },
  {
   "cell_type": "code",
   "execution_count": 4,
   "metadata": {},
   "outputs": [
    {
     "name": "stdout",
     "output_type": "stream",
     "text": [
      "One of my favorite books is 'Alice in Wonderland'.\n",
      "One of my favorite books is 'You can win '.\n"
     ]
    }
   ],
   "source": [
    "def favorite_book(title):\n",
    "    print(f\"One of my favorite books is '{title}'.\")\n",
    "    \n",
    "favorite_book(\"Alice in Wonderland\")\n",
    "favorite_book(\"You can win \")"
   ]
  },
  {
   "cell_type": "markdown",
   "metadata": {},
   "source": [
    "# Question 5:"
   ]
  },
  {
   "cell_type": "code",
   "execution_count": 5,
   "metadata": {},
   "outputs": [
    {
     "name": "stdout",
     "output_type": "stream",
     "text": [
      "\n",
      "\tYou have 3 chances to guess the hidden number (from 1 to 30): 1\n",
      "\t***Congrats ! Correct Guess, You Won*** :)\n"
     ]
    }
   ],
   "source": [
    "import random as rd\n",
    "i = 3\n",
    "while i > 0:\n",
    "    correct_num = rd.randint(1,30)\n",
    "    user_num = int(input(f\"\\n\\tYou have {i} chances to guess the hidden number (from 1 to 30): \"))\n",
    "    \n",
    "    if user_num == correct_num:\n",
    "        print(\"\\t***Congrats ! Correct Guess, You Won*** :)\")\n",
    "        break\n",
    "    elif user_num > correct_num:\n",
    "        print(\"\\tYour guess is greater than the hidden number !\")\n",
    "        i -= 1\n",
    "    elif user_num < correct_num:\n",
    "        print(\"\\tYour guess is less than the hidden number !\")\n",
    "        i-=1\n",
    "    elif user_num < 1 or user_num > 30:\n",
    "        print(\"\\tPlease enter number in range 1 to 30 !\")\n",
    "        \n",
    "if i == 0:\n",
    "    print(f\"\\n\\tYou Lost ! :(  Hidden Number was {correct_num}\")"
   ]
  },
  {
   "cell_type": "markdown",
   "metadata": {},
   "source": []
  }
 ],
 "metadata": {
  "kernelspec": {
   "display_name": "Python 3",
   "language": "python",
   "name": "python3"
  },
  "language_info": {
   "codemirror_mode": {
    "name": "ipython",
    "version": 3
   },
   "file_extension": ".py",
   "mimetype": "text/x-python",
   "name": "python",
   "nbconvert_exporter": "python",
   "pygments_lexer": "ipython3",
   "version": "3.7.3"
  }
 },
 "nbformat": 4,
 "nbformat_minor": 2
}
