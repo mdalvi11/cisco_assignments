{
 "cells": [
  {
   "cell_type": "code",
   "execution_count": 1,
   "metadata": {},
   "outputs": [
    {
     "name": "stdout",
     "output_type": "stream",
     "text": [
      "Enter marks of each subject to generate marksheet :\n",
      "English : 55\n",
      "Mathematics : 66\n",
      "Programming : 77\n",
      "Electronics : 88\n",
      "Java : 99\n",
      "\n",
      "Marksheet :\n",
      "_______________________________________________\n",
      "Subject :\t Obtained Marks : \t Total Marks :  \n",
      "_______________________________________________\n",
      " English : \t 55.0     \t : \t\t 100:\n",
      " Mathematics :  66.0     \t : \t\t 100 :\n",
      " Programming :  77.0     \t : \t\t 100:\n",
      " Electronics : \t 88.0     \t : \t\t 100:\n",
      " Java      : \t 99.0     \t : \t\t 100:\n",
      "_______________________________________________\n",
      "Total     : \t 330.0     \t : \t\t 500      :\n",
      "Grade Obtained : B\n",
      "_______________________________________________\n"
     ]
    }
   ],
   "source": [
    "msg = \"Enter marks of each subject to generate marksheet :\\n\"\n",
    "english           = float (input(msg + \"English : \"))\n",
    "maths             = float (input(\"Mathematics : \"))\n",
    "programming = float (input(\"Programming : \"))\n",
    "electronics     = float (input(\"Electronics : \"))\n",
    "java                = float (input(\"Java : \"))\n",
    "total = maths + programming + electronics + java\n",
    "per = (total/500)*100\n",
    "\n",
    "#Conditions For Grade\n",
    "if per >= 80 and per <= 100:\n",
    "    grade = 'A'\n",
    "elif per >= 60 and per <80:\n",
    "    grade = 'B'\n",
    "elif per >= 40 and per <60:\n",
    "    grade = 'C'\n",
    "elif per < 40:\n",
    "    grade = 'D'\n",
    "\n",
    "# Marksheet\n",
    "print(\"\\nMarksheet :\")\n",
    "print(\"_______________________________________________\")\n",
    "print(\"Subject :\\t Obtained Marks : \\t Total Marks :  \")\n",
    "print(\"_______________________________________________\")\n",
    "print(f\" English : \\t {english}     \\t : \\t\\t 100:\")\n",
    "print(f\" Mathematics :  {maths}     \\t : \\t\\t 100 :\")\n",
    "print(f\" Programming :  {programming}     \\t : \\t\\t 100:\")\n",
    "print(f\" Electronics : \\t {electronics}     \\t : \\t\\t 100:\")\n",
    "print(f\" Java      : \\t {java}     \\t : \\t\\t 100:\")\n",
    "print(\"_______________________________________________\")\n",
    "print(f\"Total     : \\t {total}     \\t : \\t\\t 500      :\")\n",
    "print(f\"Grade Obtained : {grade}\")\n",
    "print(\"_______________________________________________\")"
   ]
  },
  {
   "cell_type": "code",
   "execution_count": 2,
   "metadata": {},
   "outputs": [
    {
     "name": "stdout",
     "output_type": "stream",
     "text": [
      "Enter a number to check : 12\n",
      "Number is even !\n"
     ]
    }
   ],
   "source": [
    "num = int(input(\"Enter a number to check : \"))\n",
    "\n",
    "if num%2 == 0:\n",
    "    print(\"Number is even !\")\n",
    "elif num%2 != 0:\n",
    "    print(\"Number is odd !\")"
   ]
  },
  {
   "cell_type": "code",
   "execution_count": 3,
   "metadata": {},
   "outputs": [
    {
     "name": "stdout",
     "output_type": "stream",
     "text": [
      "5\n"
     ]
    }
   ],
   "source": [
    "mylist = [1, 2, 3, 4, 5]\n",
    "print(len(mylist))"
   ]
  },
  {
   "cell_type": "code",
   "execution_count": 4,
   "metadata": {},
   "outputs": [
    {
     "name": "stdout",
     "output_type": "stream",
     "text": [
      "17\n"
     ]
    }
   ],
   "source": [
    "sum = 0\n",
    "mylist = [1, 2, 3, 4, 5, 2]\n",
    "for num in mylist:\n",
    "    sum = sum + num\n",
    "    \n",
    "print(sum)"
   ]
  },
  {
   "cell_type": "code",
   "execution_count": 5,
   "metadata": {},
   "outputs": [
    {
     "data": {
      "text/plain": [
       "55"
      ]
     },
     "execution_count": 5,
     "metadata": {},
     "output_type": "execute_result"
    }
   ],
   "source": [
    "mylist = [1, 1, 2, 3, 4, 5, 1, 2, 55, 44, 2, 1, 14]\n",
    "max(mylist)\n"
   ]
  },
  {
   "cell_type": "code",
   "execution_count": 6,
   "metadata": {},
   "outputs": [
    {
     "name": "stdout",
     "output_type": "stream",
     "text": [
      "1\n",
      "1\n",
      "2\n",
      "3\n"
     ]
    }
   ],
   "source": [
    "a = [1, 1, 2, 3, 5, 8, 13, 21, 34, 55, 89]\n",
    "for num in a:\n",
    "    if num < 5:\n",
    "        print(num)"
   ]
  },
  {
   "cell_type": "code",
   "execution_count": null,
   "metadata": {},
   "outputs": [],
   "source": []
  }
 ],
 "metadata": {
  "kernelspec": {
   "display_name": "Python 3",
   "language": "python",
   "name": "python3"
  },
  "language_info": {
   "codemirror_mode": {
    "name": "ipython",
    "version": 3
   },
   "file_extension": ".py",
   "mimetype": "text/x-python",
   "name": "python",
   "nbconvert_exporter": "python",
   "pygments_lexer": "ipython3",
   "version": "3.7.3"
  }
 },
 "nbformat": 4,
 "nbformat_minor": 2
}
